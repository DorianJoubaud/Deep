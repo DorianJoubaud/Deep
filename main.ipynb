{
 "cells": [
  {
   "cell_type": "markdown",
   "id": "c72f4439-0017-4a04-ba52-296104dd6706",
   "metadata": {},
   "source": [
    "<h1> Model </h1>"
   ]
  },
  {
   "cell_type": "code",
   "execution_count": 76,
   "id": "described-saudi",
   "metadata": {},
   "outputs": [],
   "source": [
    "from torch.utils.data import Dataset\n",
    "import torch\n",
    "import pickle\n",
    "import os\n",
    "import matplotlib.pyplot as plt\n",
    "import numpy as np\n",
    "import time\n",
    "import copy\n",
    "import torch.nn as nn\n",
    "import torch.nn.functional as F"
   ]
  },
  {
   "cell_type": "code",
   "execution_count": 108,
   "id": "18f67a6c-8a3f-4b9d-b5af-8397916234c4",
   "metadata": {},
   "outputs": [],
   "source": [
    "class model(nn.Module):\n",
    "    '''\n",
    "    \n",
    "    '''\n",
    "    def __init__(self, image_channels=3, img_size=(64,64),device='cpu'):  \n",
    "        self.device=device\n",
    "        self.img_size=img_size\n",
    "        self.image_channels= image_channels\n",
    "        super(model, self).__init__()\n",
    "        # convolutional layer (sees 32x32x3 image tensor)\n",
    "        self.conv1 = nn.Conv2d(3, 16, 3, padding=1)\n",
    "        # convolutional layer (sees 16x16x16 tensor)\n",
    "        self.conv2 = nn.Conv2d(16, 32, 3, padding=1)\n",
    "        # convolutional layer (sees 8x8x32 tensor)\n",
    "        self.conv3 = nn.Conv2d(32, 64, 3, padding=1)\n",
    "        # max pooling layer\n",
    "        self.pool = nn.MaxPool2d(2, 2)\n",
    "        # linear layer (64 * 4 * 4 -> 500)\n",
    "        self.fc1 = nn.Linear(64 * 4 * 4, 500)\n",
    "        # linear layer (500 -> 10)\n",
    "        self.fc2 = nn.Linear(500, 10)\n",
    "        # dropout layer (p=0.25)\n",
    "        self.dropout = nn.Dropout(0.25)\n",
    "\n",
    "    def forward(self, x):\n",
    "        # add sequence of convolutional and max pooling layers\n",
    "        x = self.pool(F.relu(self.conv1(x)))\n",
    "        x = self.pool(F.relu(self.conv2(x)))\n",
    "        x = self.pool(F.relu(self.conv3(x)))\n",
    "        # flatten image input\n",
    "        x = x.view(-1, 64 * 4 * 4)\n",
    "        # add dropout layer\n",
    "        x = self.dropout(x)\n",
    "        # add 1st hidden layer, with relu activation function\n",
    "        x = F.relu(self.fc1(x))\n",
    "        # add dropout layer\n",
    "        x = self.dropout(x)\n",
    "        # add 2nd hidden layer, with relu activation function\n",
    "        x = self.fc2(x)\n",
    "        return x"
   ]
  },
  {
   "cell_type": "code",
   "execution_count": 78,
   "id": "bf80bce4-e12e-41b9-a320-fd56951fbe7d",
   "metadata": {},
   "outputs": [],
   "source": [
    "class mylog:\n",
    "    def __init__(self,file='auto',path='./',mode='new'):\n",
    "        assert mode in ['new','append','load']\n",
    "        if file =='auto' and mode != 'new':\n",
    "            raise Exception(\"parametres file et mode incompatibles\") \n",
    "        if file =='auto' and (mode == 'load' or mode =='append'):\n",
    "            raise Exception(\"parametres file et mode incompatibles\") \n",
    "            \n",
    "        if file == 'auto':\n",
    "            count=0\n",
    "            while 1:\n",
    "                name='training.{:04d}.log'.format(count)\n",
    "                self.namesavefig= 'training.{:04d}.png'.format(count)\n",
    "                f=path+name\n",
    "                if not os.path.isfile(f):\n",
    "                    break\n",
    "                else:\n",
    "                    count +=1\n",
    "            self.name=f\n",
    "        else:\n",
    "            self.name=path+file\n",
    "            \n",
    "            \n",
    "        if mode =='new' and os.path.isfile(self.name):\n",
    "            os.remove(self.name)\n",
    "        self.path=path\n",
    "        self.mode=mode\n",
    "        #print('name=',self.name)\n",
    "            \n",
    "    def __call__(self,phase,epoch,plot=False,**loss):\n",
    "        if self.mode == 'load':\n",
    "            return False\n",
    "        with open (self.name, 'a') as f:\n",
    "            f.write('{} {} '.format(phase,epoch))\n",
    "            for label,val in loss.items():\n",
    "                try :\n",
    "                    f.write('{} {:.4f} '.format(label,float(val)))\n",
    "                except:\n",
    "                    f.write('{} {} '.format(label,val))    \n",
    "            f.write('\\n')\n",
    "        if plot:\n",
    "            self.plot(title='loss')\n",
    "            \n",
    "        return True\n",
    "    \n",
    "    def summarize(self):\n",
    "        import numpy as np\n",
    "        \n",
    "        mat = []                            # création d'une liste vide,\n",
    "        with open (self.path+self.name, \"r\") as f:  # ouverture du fichier en mode lecture\n",
    "            for li in f :                   # pour toutes les lignes du fichier\n",
    "                s = li.strip (\"\\n\\r\")       # on enlève les caractères de fin de ligne\n",
    "                l = s.split (\" \")           # on découpe en colonnes\n",
    "                l=[x for x in l[:-1]]\n",
    "                mat.append (l)  \n",
    "        \n",
    "        \n",
    "        for l in mat:\n",
    "            if l[0] in ['hyperparams']:\n",
    "                dico={}\n",
    "                for i in range(2,len(l),2):\n",
    "                    try:\n",
    "                        dico[l[i]] = float(l[i+1])\n",
    "                    except:\n",
    "                        dico[l[i]] = l[i+1]\n",
    "                return dico\n",
    "        return dico\n",
    "    \n",
    "    def read(self,title=None,save=False,hold=False):\n",
    "        \n",
    "        import numpy as np\n",
    "        \n",
    "        mat = []                            # création d'une liste vide,\n",
    "        with open (self.path+self.name, \"r\") as f:  # ouverture du fichier en mode lecture\n",
    "            for li in f :                   # pour toutes les lignes du fichier\n",
    "                s = li.strip (\"\\n\\r\")       # on enlève les caractères de fin de ligne\n",
    "                l = s.split (\" \")           # on découpe en colonnes\n",
    "                l=[x for x in l[:-1]]\n",
    "                mat.append (l)  \n",
    "        \n",
    "        dico={}\n",
    "        for l in mat:\n",
    "            if l[0] not in ['train','val','test']:\n",
    "                continue\n",
    "            try:\n",
    "                dico[l[0]] = []\n",
    "            except:\n",
    "                pass\n",
    "        \n",
    "        for l in mat:\n",
    "            if l[0] not in ['train','val','test']:\n",
    "                continue\n",
    "            loss={}\n",
    "            for i,c in enumerate(l[2::2]):\n",
    "                loss[c]=float(l[2*i+3])\n",
    "                            \n",
    "            d=(int(l[1]),loss)\n",
    "            dico[l[0]].append(d)\n",
    "            \n",
    "                  \n",
    "        return dico\n",
    "            #mat=np.array(mat)\n",
    "    def plot(self,title='loss',save=None,hold=False,ylim=False,mask=None):\n",
    "        \n",
    "        loss=self.read()\n",
    "       \n",
    "        plt.figure(title)\n",
    "        if not hold : plt.clf()\n",
    "        \n",
    "        if title is not None:\n",
    "            plt.suptitle(title)\n",
    "        for phase in loss.keys():\n",
    "            if mask is None:\n",
    "                nserie=len(loss[phase][0][1])\n",
    "                series = list(loss[phase][0][1].keys())\n",
    "            else:\n",
    "                nserie=len(mask)\n",
    "                series=mask\n",
    "            \n",
    "            for serie in series:\n",
    "                X,Y=[],[]\n",
    "                for l in loss[phase]:\n",
    "                    X.append(l[0])\n",
    "                    Y.append(l[1][serie])\n",
    "                if len(X) ==1:\n",
    "                    plt.plot(X,Y,'X',label=phase+':'+serie)\n",
    "                else:\n",
    "                    plt.plot(X,Y,label=phase+':'+serie)\n",
    "                    \n",
    "            \n",
    "        plt.legend()\n",
    "        plt.xlabel('Epochs')\n",
    "        plt.ylabel('Loss')\n",
    "        plt.grid()\n",
    "        if ylim is not None:\n",
    "            plt.ylim(ylim)\n",
    "        if save is not None:\n",
    "            plt.savefig(self.path+save)\n",
    "        #print(mat)\n",
    "        plt.pause(0.1)"
   ]
  },
  {
   "cell_type": "code",
   "execution_count": 79,
   "id": "7eb0c04c-12ef-4cc4-a479-c583adeb0872",
   "metadata": {},
   "outputs": [],
   "source": [
    "class DatasetCifar64(Dataset):\n",
    "    \"\"\"\n",
    "    Création d'un dataset permettant de lire les données Cifar64 partir d'un fichier npz\n",
    "    créé par create_dataset.py\"\"\"\n",
    "\n",
    "    def __init__(self, file, path='./',split=None):\n",
    "        \"\"\"\n",
    "        Args:\n",
    "        \n",
    "        \"\"\"\n",
    "        if not os.path.exists(file):\n",
    "                raise FileNotFoundError('fichier {} introuvable'.format(file))\n",
    "        tmp=np.load(path+file)\n",
    "        self.imgs=tmp['imgs'].transpose([0,3,1,2])\n",
    "        \n",
    "        self.labels=tmp['labels']\n",
    "    \n",
    "    def __len__(self):\n",
    "        return len(self.labels)\n",
    "    \n",
    "    def __getitem__(self,idx):\n",
    "        if torch.is_tensor(idx):\n",
    "            idx=idx.tolist()\n",
    "        img=self.imgs[idx]\n",
    "        img=torch.from_numpy(img).to(torch.float)/255.0\n",
    "        labels=torch.from_numpy(self.labels[idx]).to(torch.float)\n",
    "        \n",
    "        return img,labels "
   ]
  },
  {
   "cell_type": "code",
   "execution_count": 80,
   "id": "3c8d14b1-0fff-44d6-a3e8-39542babb839",
   "metadata": {},
   "outputs": [
    {
     "name": "stdout",
     "output_type": "stream",
     "text": [
      "tensor([1., 0., 1., 0., 0., 1., 0., 0., 0., 1.])\n",
      "Exemple d\"image de la base de train\n"
     ]
    },
    {
     "data": {
      "image/png": "[encoded data removed]",
      "text/plain": [
       "<Figure size 432x288 with 1 Axes>"
      ]
     },
     "metadata": {
      "needs_background": "light"
     },
     "output_type": "display_data"
    }
   ],
   "source": [
    "from torch.utils.data import DataLoader\n",
    "   \n",
    "traindataset=DatasetCifar64('train20k.npz')\n",
    "   \n",
    "train_dataloader = DataLoader(traindataset, batch_size=5, shuffle=True)\n",
    "print(traindataset[0][1])\n",
    "plt.imshow(traindataset[0][0].permute(1,2,0))\n",
    "print('Exemple d\"image de la base de train')"
   ]
  },
  {
   "cell_type": "markdown",
   "id": "ce9fa083-c3c5-4020-88b9-34f3aacf6738",
   "metadata": {},
   "source": [
    "<h1> Learning </h1>"
   ]
  },
  {
   "cell_type": "code",
   "execution_count": 96,
   "id": "04400d1f-35fc-4eb3-869a-9fe4298ddc13",
   "metadata": {},
   "outputs": [],
   "source": [
    "def Train(model, dataloaders, loss_fn, optimizer, num_epochs=0, plot=True,verbose=True):\n",
    "    \"\"\" Module d'apprentissage: si epoch == 0 alors on calcule seulement de loss sur le dataset de test\n",
    "        \n",
    "    \"\"\"\n",
    "    since = time.time()\n",
    "\n",
    "    \n",
    "    best_loss = np.inf\n",
    "    epoch_loss = np.inf\n",
    "\n",
    "       \n",
    "    phases = ['train','val']\n",
    "    if num_epochs ==0:\n",
    "        phases = ['test']\n",
    "       \n",
    "\n",
    "    if 'train' in phases :\n",
    "        print('Apprentissage avec {} epoques'.format(num_epochs))\n",
    "        best_model = copy.deepcopy(model)\n",
    "    else:\n",
    "        best_model=model\n",
    "    \n",
    "    \n",
    "    \n",
    "    for epoch in range(num_epochs):\n",
    "        \n",
    "        if 'train' in phases:\n",
    "            print('Epoch {}/{}'.format(epoch, num_epochs - 1))\n",
    "            print('-' * 10)\n",
    "\n",
    "        # Each epoch has a training and validation phase\n",
    "        for phase in phases:\n",
    "            if phase == 'train':\n",
    "                model.train()  # Set model to training mode\n",
    "            else:\n",
    "                model.eval()   # Set model to evaluate mode\n",
    "\n",
    "            running_loss = 0\n",
    "            \n",
    "            \n",
    "            # Iterate sur tous les batch.\n",
    "            for idx, (images,labels) in enumerate(dataloaders[phase]):\n",
    "                \n",
    "                imagesIn= images.to(model.device)\n",
    "                Out = labels.to(model.device)\n",
    "                \n",
    "                # forward\n",
    "                with torch.set_grad_enabled(phase == 'train'):\n",
    "                    labelsOut = model.forward(imagesIn)\n",
    "                    \n",
    "                    loss = loss_fn(labelsOut, Out)      \n",
    "                    \n",
    "                    # backward + optimize only if in training phase\n",
    "                    if phase == 'train':\n",
    "                        optimizer.zero_grad()\n",
    "                        loss.backward()\n",
    "                        optimizer.step()\n",
    "\n",
    "                \n",
    "                # statistics\n",
    "                running_loss += loss.item() / 10\n",
    "                \n",
    "            epoch_loss = running_loss / len(dataloaders[phase]) \n",
    "            \n",
    "            model.log(phase,epoch,Loss=epoch_loss,plot=False)\n",
    "            \n",
    "            if plot:\n",
    "                model.log.plot(mask=['Loss'])\n",
    "            print('{} Loss: {:.4f} '.format(phase, epoch_loss))\n",
    "\n",
    "            # deep copy the model\n",
    "            if phase == 'val' and epoch == 0:\n",
    "                best_loss = epoch_loss\n",
    "                best_model = copy.deepcopy(model)\n",
    "            elif phase == 'val' and epoch_loss < best_loss:\n",
    "                best_loss = epoch_loss\n",
    "                best_model = copy.deepcopy(model)\n",
    "            \n",
    "            print()\n",
    "\n",
    "    time_elapsed = time.time() - since\n",
    "    print('Training complete in {:.0f}m {:.0f}s'.format(time_elapsed // 60, time_elapsed % 60))\n",
    "    if num_epochs > 0:\n",
    "        print('Best loss: {:4f} final loss: {:4f}'.format(best_loss,epoch_loss))\n",
    "        print('-------------------------------------------------')\n",
    "\n",
    "   \n",
    "    \n",
    "    if num_epochs ==0:\n",
    "        return model,model,epoch_loss,epoch_loss\n",
    "    else:\n",
    "        return model, best_model, epoch_loss, best_loss"
   ]
  },
  {
   "cell_type": "code",
   "execution_count": 97,
   "id": "ad472e03-13f1-4fd8-a8dd-cf69ab5946a1",
   "metadata": {},
   "outputs": [
    {
     "name": "stdout",
     "output_type": "stream",
     "text": [
      "Les calculs se font sur  cpu\n"
     ]
    }
   ],
   "source": [
    "batch_size = 256        # Taille du batch\n",
    "learning_rate=5e-4      # Learning rate\n",
    "epochs=20            # Nombre d'époques\n",
    "load_net=True           # Chargement du modele depuis le fichier weight_file_load\n",
    "save_net=True           # Sauvegarde modele dans fichier\n",
    "weight_file_load='basique.torch'      # fichier de chargement du modele\n",
    "weight_file_save='basique.torch'      # fichier sauvegarde du modele\n",
    "    \n",
    "logfile='logfile.log'     # nom du fichier log\n",
    "    \n",
    "# GPU ou CPU\n",
    "device = 'cuda:0' if torch.cuda.is_available() else 'cpu'\n",
    "print('Les calculs se font sur ', device)"
   ]
  },
  {
   "cell_type": "code",
   "execution_count": 98,
   "id": "ffc936f8-22cc-44b4-a45c-519d6f50d0ea",
   "metadata": {},
   "outputs": [],
   "source": [
    "traindataset=DatasetCifar64('train20k.npz')\n",
    "valdataset=DatasetCifar64('val5k.npz')\n",
    "testdataset=DatasetCifar64('test20k.npz')"
   ]
  },
  {
   "cell_type": "code",
   "execution_count": 99,
   "id": "92168d86-1d6c-48d9-83d8-642c2140dfd9",
   "metadata": {},
   "outputs": [],
   "source": [
    "train_dataloader = DataLoader(traindataset, batch_size=batch_size, shuffle=True,num_workers=1)\n",
    "test_dataloader = DataLoader(testdataset, batch_size=batch_size, shuffle=False,num_workers=1)\n",
    "val_dataloader = DataLoader(valdataset, batch_size=batch_size, shuffle=False,num_workers=1)"
   ]
  },
  {
   "cell_type": "code",
   "execution_count": 100,
   "id": "ddc1de4c-b304-4f99-b9af-d11fc9854076",
   "metadata": {},
   "outputs": [],
   "source": [
    "loaders = {'train':train_dataloader,'val':val_dataloader,'test':test_dataloader}"
   ]
  },
  {
   "cell_type": "code",
   "execution_count": 109,
   "id": "f811cb2e-1ce4-4631-be45-a834c71ecb6e",
   "metadata": {},
   "outputs": [],
   "source": [
    "nn_model = model(img_size=(64,64),device=device).to(device)\n",
    "nn_model.log= mylog(file=logfile,mode='new',path='./')\n",
    "    \n",
    "loss_fn=nn.MSELoss().to(device)   \n",
    "optimizer = torch.optim.Adam(nn_model.parameters(), lr=learning_rate) "
   ]
  },
  {
   "cell_type": "code",
   "execution_count": 110,
   "id": "50470ed3-1379-4ae7-b515-82d4f5215f45",
   "metadata": {},
   "outputs": [
    {
     "name": "stdout",
     "output_type": "stream",
     "text": [
      "Pas de chargement des poids\n"
     ]
    }
   ],
   "source": [
    "load_net = False\n",
    "if load_net :\n",
    "        print('Chargement des poids depuis ',weight_file_load)\n",
    "        checkpoint = torch.load(weight_file_load,map_location=device)\n",
    "        nn_model.load_state_dict(checkpoint['model_state_dict'])\n",
    "        optimizer.load_state_dict(checkpoint['optimizer_state_dict'])\n",
    "else:\n",
    "        print(\"Pas de chargement des poids\")"
   ]
  },
  {
   "cell_type": "code",
   "execution_count": 111,
   "id": "e36584de-ed36-4c9f-af37-54fc02477635",
   "metadata": {
    "scrolled": true,
    "tags": []
   },
   "outputs": [
    {
     "name": "stdout",
     "output_type": "stream",
     "text": [
      "Apprentissage avec 20 epoques\n",
      "Epoch 0/19\n",
      "----------\n"
     ]
    },
    {
     "name": "stderr",
     "output_type": "stream",
     "text": [
      "/home/joker/.local/lib/python3.8/site-packages/torch/nn/modules/loss.py:520: UserWarning: Using a target size (torch.Size([256, 10])) that is different to the input size (torch.Size([1024, 10])). This will likely lead to incorrect results due to broadcasting. Please ensure they have the same size.\n",
      "  return F.mse_loss(input, target, reduction=self.reduction)\n"
     ]
    },
    {
     "ename": "RuntimeError",
     "evalue": "The size of tensor a (1024) must match the size of tensor b (256) at non-singleton dimension 0",
     "output_type": "error",
     "traceback": [
      "\u001b[0;31m---------------------------------------------------------------------------\u001b[0m",
      "\u001b[0;31mRuntimeError\u001b[0m                              Traceback (most recent call last)",
      "\u001b[0;32m<ipython-input-111-f58f6cb1bcad>\u001b[0m in \u001b[0;36m<module>\u001b[0;34m\u001b[0m\n\u001b[0;32m----> 1\u001b[0;31m \u001b[0mmy_model\u001b[0m\u001b[0;34m,\u001b[0m \u001b[0mbest_model\u001b[0m\u001b[0;34m,\u001b[0m \u001b[0mepoch_loss\u001b[0m\u001b[0;34m,\u001b[0m \u001b[0mbest_loss\u001b[0m \u001b[0;34m=\u001b[0m \u001b[0mTrain\u001b[0m\u001b[0;34m(\u001b[0m\u001b[0mnn_model\u001b[0m\u001b[0;34m,\u001b[0m \u001b[0mloaders\u001b[0m\u001b[0;34m,\u001b[0m \u001b[0mloss_fn\u001b[0m\u001b[0;34m,\u001b[0m \u001b[0moptimizer\u001b[0m\u001b[0;34m,\u001b[0m \u001b[0mnum_epochs\u001b[0m\u001b[0;34m=\u001b[0m\u001b[0mepochs\u001b[0m\u001b[0;34m,\u001b[0m\u001b[0mplot\u001b[0m\u001b[0;34m=\u001b[0m\u001b[0;32mTrue\u001b[0m\u001b[0;34m,\u001b[0m\u001b[0mverbose\u001b[0m\u001b[0;34m=\u001b[0m\u001b[0;32mTrue\u001b[0m\u001b[0;34m)\u001b[0m\u001b[0;34m\u001b[0m\u001b[0;34m\u001b[0m\u001b[0m\n\u001b[0m",
      "\u001b[0;32m<ipython-input-96-8f20d4e9b7b7>\u001b[0m in \u001b[0;36mTrain\u001b[0;34m(model, dataloaders, loss_fn, optimizer, num_epochs, plot, verbose)\u001b[0m\n\u001b[1;32m     49\u001b[0m                     \u001b[0mlabelsOut\u001b[0m \u001b[0;34m=\u001b[0m \u001b[0mmodel\u001b[0m\u001b[0;34m.\u001b[0m\u001b[0mforward\u001b[0m\u001b[0;34m(\u001b[0m\u001b[0mimagesIn\u001b[0m\u001b[0;34m)\u001b[0m\u001b[0;34m\u001b[0m\u001b[0;34m\u001b[0m\u001b[0m\n\u001b[1;32m     50\u001b[0m \u001b[0;34m\u001b[0m\u001b[0m\n\u001b[0;32m---> 51\u001b[0;31m                     \u001b[0mloss\u001b[0m \u001b[0;34m=\u001b[0m \u001b[0mloss_fn\u001b[0m\u001b[0;34m(\u001b[0m\u001b[0mlabelsOut\u001b[0m\u001b[0;34m,\u001b[0m \u001b[0mOut\u001b[0m\u001b[0;34m)\u001b[0m\u001b[0;34m\u001b[0m\u001b[0;34m\u001b[0m\u001b[0m\n\u001b[0m\u001b[1;32m     52\u001b[0m \u001b[0;34m\u001b[0m\u001b[0m\n\u001b[1;32m     53\u001b[0m                     \u001b[0;31m# backward + optimize only if in training phase\u001b[0m\u001b[0;34m\u001b[0m\u001b[0;34m\u001b[0m\u001b[0;34m\u001b[0m\u001b[0m\n",
      "\u001b[0;32m~/.local/lib/python3.8/site-packages/torch/nn/modules/module.py\u001b[0m in \u001b[0;36m_call_impl\u001b[0;34m(self, *input, **kwargs)\u001b[0m\n\u001b[1;32m   1100\u001b[0m         if not (self._backward_hooks or self._forward_hooks or self._forward_pre_hooks or _global_backward_hooks\n\u001b[1;32m   1101\u001b[0m                 or _global_forward_hooks or _global_forward_pre_hooks):\n\u001b[0;32m-> 1102\u001b[0;31m             \u001b[0;32mreturn\u001b[0m \u001b[0mforward_call\u001b[0m\u001b[0;34m(\u001b[0m\u001b[0;34m*\u001b[0m\u001b[0minput\u001b[0m\u001b[0;34m,\u001b[0m \u001b[0;34m**\u001b[0m\u001b[0mkwargs\u001b[0m\u001b[0;34m)\u001b[0m\u001b[0;34m\u001b[0m\u001b[0;34m\u001b[0m\u001b[0m\n\u001b[0m\u001b[1;32m   1103\u001b[0m         \u001b[0;31m# Do not call functions when jit is used\u001b[0m\u001b[0;34m\u001b[0m\u001b[0;34m\u001b[0m\u001b[0;34m\u001b[0m\u001b[0m\n\u001b[1;32m   1104\u001b[0m         \u001b[0mfull_backward_hooks\u001b[0m\u001b[0;34m,\u001b[0m \u001b[0mnon_full_backward_hooks\u001b[0m \u001b[0;34m=\u001b[0m \u001b[0;34m[\u001b[0m\u001b[0;34m]\u001b[0m\u001b[0;34m,\u001b[0m \u001b[0;34m[\u001b[0m\u001b[0;34m]\u001b[0m\u001b[0;34m\u001b[0m\u001b[0;34m\u001b[0m\u001b[0m\n",
      "\u001b[0;32m~/.local/lib/python3.8/site-packages/torch/nn/modules/loss.py\u001b[0m in \u001b[0;36mforward\u001b[0;34m(self, input, target)\u001b[0m\n\u001b[1;32m    518\u001b[0m \u001b[0;34m\u001b[0m\u001b[0m\n\u001b[1;32m    519\u001b[0m     \u001b[0;32mdef\u001b[0m \u001b[0mforward\u001b[0m\u001b[0;34m(\u001b[0m\u001b[0mself\u001b[0m\u001b[0;34m,\u001b[0m \u001b[0minput\u001b[0m\u001b[0;34m:\u001b[0m \u001b[0mTensor\u001b[0m\u001b[0;34m,\u001b[0m \u001b[0mtarget\u001b[0m\u001b[0;34m:\u001b[0m \u001b[0mTensor\u001b[0m\u001b[0;34m)\u001b[0m \u001b[0;34m->\u001b[0m \u001b[0mTensor\u001b[0m\u001b[0;34m:\u001b[0m\u001b[0;34m\u001b[0m\u001b[0;34m\u001b[0m\u001b[0m\n\u001b[0;32m--> 520\u001b[0;31m         \u001b[0;32mreturn\u001b[0m \u001b[0mF\u001b[0m\u001b[0;34m.\u001b[0m\u001b[0mmse_loss\u001b[0m\u001b[0;34m(\u001b[0m\u001b[0minput\u001b[0m\u001b[0;34m,\u001b[0m \u001b[0mtarget\u001b[0m\u001b[0;34m,\u001b[0m \u001b[0mreduction\u001b[0m\u001b[0;34m=\u001b[0m\u001b[0mself\u001b[0m\u001b[0;34m.\u001b[0m\u001b[0mreduction\u001b[0m\u001b[0;34m)\u001b[0m\u001b[0;34m\u001b[0m\u001b[0;34m\u001b[0m\u001b[0m\n\u001b[0m\u001b[1;32m    521\u001b[0m \u001b[0;34m\u001b[0m\u001b[0m\n\u001b[1;32m    522\u001b[0m \u001b[0;34m\u001b[0m\u001b[0m\n",
      "\u001b[0;32m~/.local/lib/python3.8/site-packages/torch/nn/functional.py\u001b[0m in \u001b[0;36mmse_loss\u001b[0;34m(input, target, size_average, reduce, reduction)\u001b[0m\n\u001b[1;32m   3109\u001b[0m         \u001b[0mreduction\u001b[0m \u001b[0;34m=\u001b[0m \u001b[0m_Reduction\u001b[0m\u001b[0;34m.\u001b[0m\u001b[0mlegacy_get_string\u001b[0m\u001b[0;34m(\u001b[0m\u001b[0msize_average\u001b[0m\u001b[0;34m,\u001b[0m \u001b[0mreduce\u001b[0m\u001b[0;34m)\u001b[0m\u001b[0;34m\u001b[0m\u001b[0;34m\u001b[0m\u001b[0m\n\u001b[1;32m   3110\u001b[0m \u001b[0;34m\u001b[0m\u001b[0m\n\u001b[0;32m-> 3111\u001b[0;31m     \u001b[0mexpanded_input\u001b[0m\u001b[0;34m,\u001b[0m \u001b[0mexpanded_target\u001b[0m \u001b[0;34m=\u001b[0m \u001b[0mtorch\u001b[0m\u001b[0;34m.\u001b[0m\u001b[0mbroadcast_tensors\u001b[0m\u001b[0;34m(\u001b[0m\u001b[0minput\u001b[0m\u001b[0;34m,\u001b[0m \u001b[0mtarget\u001b[0m\u001b[0;34m)\u001b[0m\u001b[0;34m\u001b[0m\u001b[0;34m\u001b[0m\u001b[0m\n\u001b[0m\u001b[1;32m   3112\u001b[0m     \u001b[0;32mreturn\u001b[0m \u001b[0mtorch\u001b[0m\u001b[0;34m.\u001b[0m\u001b[0m_C\u001b[0m\u001b[0;34m.\u001b[0m\u001b[0m_nn\u001b[0m\u001b[0;34m.\u001b[0m\u001b[0mmse_loss\u001b[0m\u001b[0;34m(\u001b[0m\u001b[0mexpanded_input\u001b[0m\u001b[0;34m,\u001b[0m \u001b[0mexpanded_target\u001b[0m\u001b[0;34m,\u001b[0m \u001b[0m_Reduction\u001b[0m\u001b[0;34m.\u001b[0m\u001b[0mget_enum\u001b[0m\u001b[0;34m(\u001b[0m\u001b[0mreduction\u001b[0m\u001b[0;34m)\u001b[0m\u001b[0;34m)\u001b[0m\u001b[0;34m\u001b[0m\u001b[0;34m\u001b[0m\u001b[0m\n\u001b[1;32m   3113\u001b[0m \u001b[0;34m\u001b[0m\u001b[0m\n",
      "\u001b[0;32m~/.local/lib/python3.8/site-packages/torch/functional.py\u001b[0m in \u001b[0;36mbroadcast_tensors\u001b[0;34m(*tensors)\u001b[0m\n\u001b[1;32m     70\u001b[0m     \u001b[0;32mif\u001b[0m \u001b[0mhas_torch_function\u001b[0m\u001b[0;34m(\u001b[0m\u001b[0mtensors\u001b[0m\u001b[0;34m)\u001b[0m\u001b[0;34m:\u001b[0m\u001b[0;34m\u001b[0m\u001b[0;34m\u001b[0m\u001b[0m\n\u001b[1;32m     71\u001b[0m         \u001b[0;32mreturn\u001b[0m \u001b[0mhandle_torch_function\u001b[0m\u001b[0;34m(\u001b[0m\u001b[0mbroadcast_tensors\u001b[0m\u001b[0;34m,\u001b[0m \u001b[0mtensors\u001b[0m\u001b[0;34m,\u001b[0m \u001b[0;34m*\u001b[0m\u001b[0mtensors\u001b[0m\u001b[0;34m)\u001b[0m\u001b[0;34m\u001b[0m\u001b[0;34m\u001b[0m\u001b[0m\n\u001b[0;32m---> 72\u001b[0;31m     \u001b[0;32mreturn\u001b[0m \u001b[0m_VF\u001b[0m\u001b[0;34m.\u001b[0m\u001b[0mbroadcast_tensors\u001b[0m\u001b[0;34m(\u001b[0m\u001b[0mtensors\u001b[0m\u001b[0;34m)\u001b[0m  \u001b[0;31m# type: ignore[attr-defined]\u001b[0m\u001b[0;34m\u001b[0m\u001b[0;34m\u001b[0m\u001b[0m\n\u001b[0m\u001b[1;32m     73\u001b[0m \u001b[0;34m\u001b[0m\u001b[0m\n\u001b[1;32m     74\u001b[0m \u001b[0;34m\u001b[0m\u001b[0m\n",
      "\u001b[0;31mRuntimeError\u001b[0m: The size of tensor a (1024) must match the size of tensor b (256) at non-singleton dimension 0"
     ]
    }
   ],
   "source": [
    "my_model, best_model, epoch_loss, best_loss = Train(nn_model, loaders, loss_fn, optimizer, num_epochs=epochs,plot=True,verbose=True)"
   ]
  },
  {
   "cell_type": "code",
   "execution_count": 54,
   "id": "194b0e61-b009-41a2-ad92-8bd1e8cb10f5",
   "metadata": {},
   "outputs": [
    {
     "name": "stdout",
     "output_type": "stream",
     "text": [
      "Sauvé dans  True\n"
     ]
    }
   ],
   "source": [
    "if save_net: \n",
    "        torch.save({'model_state_dict':best_model.state_dict(),'optimizer_state_dict': optimizer.state_dict(),'loss':best_loss,'learning_rate':learning_rate},weight_file_save )\n",
    "        print('Sauvé dans ',save_net)"
   ]
  },
  {
   "cell_type": "code",
   "execution_count": 60,
   "id": "73360fe0-06ad-4206-9636-ad51f971c749",
   "metadata": {},
   "outputs": [
    {
     "name": "stdout",
     "output_type": "stream",
     "text": [
      "tensor([0., 0., 1., 1., 0., 1., 0., 0., 1., 0.])\n"
     ]
    }
   ],
   "source": [
    "print(testdataset[0][1])"
   ]
  },
  {
   "cell_type": "code",
   "execution_count": 65,
   "id": "f8b1b02e-7acb-4773-8c88-6306108b6a15",
   "metadata": {},
   "outputs": [
    {
     "ename": "RuntimeError",
     "evalue": "Expected 4-dimensional input for 4-dimensional weight [6, 3, 5, 5], but got 3-dimensional input of size [3, 64, 64] instead",
     "output_type": "error",
     "traceback": [
      "\u001b[0;31m---------------------------------------------------------------------------\u001b[0m",
      "\u001b[0;31mRuntimeError\u001b[0m                              Traceback (most recent call last)",
      "\u001b[0;32m<ipython-input-65-9140baeaf364>\u001b[0m in \u001b[0;36m<module>\u001b[0;34m\u001b[0m\n\u001b[0;32m----> 1\u001b[0;31m \u001b[0mres\u001b[0m \u001b[0;34m=\u001b[0m \u001b[0mnn_model\u001b[0m\u001b[0;34m(\u001b[0m\u001b[0mtestdataset\u001b[0m\u001b[0;34m[\u001b[0m\u001b[0;36m0\u001b[0m\u001b[0;34m]\u001b[0m\u001b[0;34m[\u001b[0m\u001b[0;36m0\u001b[0m\u001b[0;34m]\u001b[0m\u001b[0;34m)\u001b[0m\u001b[0;34m\u001b[0m\u001b[0;34m\u001b[0m\u001b[0m\n\u001b[0m",
      "\u001b[0;32m~/.local/lib/python3.8/site-packages/torch/nn/modules/module.py\u001b[0m in \u001b[0;36m_call_impl\u001b[0;34m(self, *input, **kwargs)\u001b[0m\n\u001b[1;32m   1100\u001b[0m         if not (self._backward_hooks or self._forward_hooks or self._forward_pre_hooks or _global_backward_hooks\n\u001b[1;32m   1101\u001b[0m                 or _global_forward_hooks or _global_forward_pre_hooks):\n\u001b[0;32m-> 1102\u001b[0;31m             \u001b[0;32mreturn\u001b[0m \u001b[0mforward_call\u001b[0m\u001b[0;34m(\u001b[0m\u001b[0;34m*\u001b[0m\u001b[0minput\u001b[0m\u001b[0;34m,\u001b[0m \u001b[0;34m**\u001b[0m\u001b[0mkwargs\u001b[0m\u001b[0;34m)\u001b[0m\u001b[0;34m\u001b[0m\u001b[0;34m\u001b[0m\u001b[0m\n\u001b[0m\u001b[1;32m   1103\u001b[0m         \u001b[0;31m# Do not call functions when jit is used\u001b[0m\u001b[0;34m\u001b[0m\u001b[0;34m\u001b[0m\u001b[0;34m\u001b[0m\u001b[0m\n\u001b[1;32m   1104\u001b[0m         \u001b[0mfull_backward_hooks\u001b[0m\u001b[0;34m,\u001b[0m \u001b[0mnon_full_backward_hooks\u001b[0m \u001b[0;34m=\u001b[0m \u001b[0;34m[\u001b[0m\u001b[0;34m]\u001b[0m\u001b[0;34m,\u001b[0m \u001b[0;34m[\u001b[0m\u001b[0;34m]\u001b[0m\u001b[0;34m\u001b[0m\u001b[0;34m\u001b[0m\u001b[0m\n",
      "\u001b[0;32m<ipython-input-22-2b7b02cdeb22>\u001b[0m in \u001b[0;36mforward\u001b[0;34m(self, x)\u001b[0m\n\u001b[1;32m     17\u001b[0m \u001b[0;34m\u001b[0m\u001b[0m\n\u001b[1;32m     18\u001b[0m     \u001b[0;32mdef\u001b[0m \u001b[0mforward\u001b[0m\u001b[0;34m(\u001b[0m\u001b[0mself\u001b[0m\u001b[0;34m,\u001b[0m \u001b[0mx\u001b[0m\u001b[0;34m)\u001b[0m\u001b[0;34m:\u001b[0m\u001b[0;34m\u001b[0m\u001b[0;34m\u001b[0m\u001b[0m\n\u001b[0;32m---> 19\u001b[0;31m             \u001b[0mx\u001b[0m \u001b[0;34m=\u001b[0m \u001b[0mself\u001b[0m\u001b[0;34m.\u001b[0m\u001b[0mpool\u001b[0m\u001b[0;34m(\u001b[0m\u001b[0mF\u001b[0m\u001b[0;34m.\u001b[0m\u001b[0mrelu\u001b[0m\u001b[0;34m(\u001b[0m\u001b[0mself\u001b[0m\u001b[0;34m.\u001b[0m\u001b[0mconv1\u001b[0m\u001b[0;34m(\u001b[0m\u001b[0mx\u001b[0m\u001b[0;34m)\u001b[0m\u001b[0;34m)\u001b[0m\u001b[0;34m)\u001b[0m\u001b[0;34m\u001b[0m\u001b[0;34m\u001b[0m\u001b[0m\n\u001b[0m\u001b[1;32m     20\u001b[0m             \u001b[0mx\u001b[0m \u001b[0;34m=\u001b[0m \u001b[0mself\u001b[0m\u001b[0;34m.\u001b[0m\u001b[0mpool\u001b[0m\u001b[0;34m(\u001b[0m\u001b[0mF\u001b[0m\u001b[0;34m.\u001b[0m\u001b[0mrelu\u001b[0m\u001b[0;34m(\u001b[0m\u001b[0mself\u001b[0m\u001b[0;34m.\u001b[0m\u001b[0mconv2\u001b[0m\u001b[0;34m(\u001b[0m\u001b[0mx\u001b[0m\u001b[0;34m)\u001b[0m\u001b[0;34m)\u001b[0m\u001b[0;34m)\u001b[0m\u001b[0;34m\u001b[0m\u001b[0;34m\u001b[0m\u001b[0m\n\u001b[1;32m     21\u001b[0m             \u001b[0mx\u001b[0m \u001b[0;34m=\u001b[0m \u001b[0mx\u001b[0m\u001b[0;34m.\u001b[0m\u001b[0mview\u001b[0m\u001b[0;34m(\u001b[0m\u001b[0mx\u001b[0m\u001b[0;34m.\u001b[0m\u001b[0msize\u001b[0m\u001b[0;34m(\u001b[0m\u001b[0;36m0\u001b[0m\u001b[0;34m)\u001b[0m\u001b[0;34m,\u001b[0m\u001b[0;34m-\u001b[0m\u001b[0;36m1\u001b[0m\u001b[0;34m)\u001b[0m\u001b[0;34m\u001b[0m\u001b[0;34m\u001b[0m\u001b[0m\n",
      "\u001b[0;32m~/.local/lib/python3.8/site-packages/torch/nn/modules/module.py\u001b[0m in \u001b[0;36m_call_impl\u001b[0;34m(self, *input, **kwargs)\u001b[0m\n\u001b[1;32m   1100\u001b[0m         if not (self._backward_hooks or self._forward_hooks or self._forward_pre_hooks or _global_backward_hooks\n\u001b[1;32m   1101\u001b[0m                 or _global_forward_hooks or _global_forward_pre_hooks):\n\u001b[0;32m-> 1102\u001b[0;31m             \u001b[0;32mreturn\u001b[0m \u001b[0mforward_call\u001b[0m\u001b[0;34m(\u001b[0m\u001b[0;34m*\u001b[0m\u001b[0minput\u001b[0m\u001b[0;34m,\u001b[0m \u001b[0;34m**\u001b[0m\u001b[0mkwargs\u001b[0m\u001b[0;34m)\u001b[0m\u001b[0;34m\u001b[0m\u001b[0;34m\u001b[0m\u001b[0m\n\u001b[0m\u001b[1;32m   1103\u001b[0m         \u001b[0;31m# Do not call functions when jit is used\u001b[0m\u001b[0;34m\u001b[0m\u001b[0;34m\u001b[0m\u001b[0;34m\u001b[0m\u001b[0m\n\u001b[1;32m   1104\u001b[0m         \u001b[0mfull_backward_hooks\u001b[0m\u001b[0;34m,\u001b[0m \u001b[0mnon_full_backward_hooks\u001b[0m \u001b[0;34m=\u001b[0m \u001b[0;34m[\u001b[0m\u001b[0;34m]\u001b[0m\u001b[0;34m,\u001b[0m \u001b[0;34m[\u001b[0m\u001b[0;34m]\u001b[0m\u001b[0;34m\u001b[0m\u001b[0;34m\u001b[0m\u001b[0m\n",
      "\u001b[0;32m~/.local/lib/python3.8/site-packages/torch/nn/modules/conv.py\u001b[0m in \u001b[0;36mforward\u001b[0;34m(self, input)\u001b[0m\n\u001b[1;32m    444\u001b[0m \u001b[0;34m\u001b[0m\u001b[0m\n\u001b[1;32m    445\u001b[0m     \u001b[0;32mdef\u001b[0m \u001b[0mforward\u001b[0m\u001b[0;34m(\u001b[0m\u001b[0mself\u001b[0m\u001b[0;34m,\u001b[0m \u001b[0minput\u001b[0m\u001b[0;34m:\u001b[0m \u001b[0mTensor\u001b[0m\u001b[0;34m)\u001b[0m \u001b[0;34m->\u001b[0m \u001b[0mTensor\u001b[0m\u001b[0;34m:\u001b[0m\u001b[0;34m\u001b[0m\u001b[0;34m\u001b[0m\u001b[0m\n\u001b[0;32m--> 446\u001b[0;31m         \u001b[0;32mreturn\u001b[0m \u001b[0mself\u001b[0m\u001b[0;34m.\u001b[0m\u001b[0m_conv_forward\u001b[0m\u001b[0;34m(\u001b[0m\u001b[0minput\u001b[0m\u001b[0;34m,\u001b[0m \u001b[0mself\u001b[0m\u001b[0;34m.\u001b[0m\u001b[0mweight\u001b[0m\u001b[0;34m,\u001b[0m \u001b[0mself\u001b[0m\u001b[0;34m.\u001b[0m\u001b[0mbias\u001b[0m\u001b[0;34m)\u001b[0m\u001b[0;34m\u001b[0m\u001b[0;34m\u001b[0m\u001b[0m\n\u001b[0m\u001b[1;32m    447\u001b[0m \u001b[0;34m\u001b[0m\u001b[0m\n\u001b[1;32m    448\u001b[0m \u001b[0;32mclass\u001b[0m \u001b[0mConv3d\u001b[0m\u001b[0;34m(\u001b[0m\u001b[0m_ConvNd\u001b[0m\u001b[0;34m)\u001b[0m\u001b[0;34m:\u001b[0m\u001b[0;34m\u001b[0m\u001b[0;34m\u001b[0m\u001b[0m\n",
      "\u001b[0;32m~/.local/lib/python3.8/site-packages/torch/nn/modules/conv.py\u001b[0m in \u001b[0;36m_conv_forward\u001b[0;34m(self, input, weight, bias)\u001b[0m\n\u001b[1;32m    440\u001b[0m                             \u001b[0mweight\u001b[0m\u001b[0;34m,\u001b[0m \u001b[0mbias\u001b[0m\u001b[0;34m,\u001b[0m \u001b[0mself\u001b[0m\u001b[0;34m.\u001b[0m\u001b[0mstride\u001b[0m\u001b[0;34m,\u001b[0m\u001b[0;34m\u001b[0m\u001b[0;34m\u001b[0m\u001b[0m\n\u001b[1;32m    441\u001b[0m                             _pair(0), self.dilation, self.groups)\n\u001b[0;32m--> 442\u001b[0;31m         return F.conv2d(input, weight, bias, self.stride,\n\u001b[0m\u001b[1;32m    443\u001b[0m                         self.padding, self.dilation, self.groups)\n\u001b[1;32m    444\u001b[0m \u001b[0;34m\u001b[0m\u001b[0m\n",
      "\u001b[0;31mRuntimeError\u001b[0m: Expected 4-dimensional input for 4-dimensional weight [6, 3, 5, 5], but got 3-dimensional input of size [3, 64, 64] instead"
     ]
    }
   ],
   "source": [
    "res = nn_model(testdataset[0][0])"
   ]
  },
  {
   "cell_type": "code",
   "execution_count": null,
   "id": "f4d7d4e6-1672-4e73-a268-a3060f8527f8",
   "metadata": {},
   "outputs": [],
   "source": []
  }
 ],
 "metadata": {
  "kernelspec": {
   "display_name": "Python 3",
   "language": "python",
   "name": "python3"
  },
  "language_info": {
   "codemirror_mode": {
    "name": "ipython",
    "version": 3
   },
   "file_extension": ".py",
   "mimetype": "text/x-python",
   "name": "python",
   "nbconvert_exporter": "python",
   "pygments_lexer": "ipython3",
   "version": "3.8.10"
  }
 },
 "nbformat": 4,
 "nbformat_minor": 5
}
